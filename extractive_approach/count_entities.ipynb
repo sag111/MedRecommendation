{
  "nbformat": 4,
  "nbformat_minor": 0,
  "metadata": {
    "colab": {
      "provenance": []
    },
    "kernelspec": {
      "name": "python3",
      "display_name": "Python 3"
    },
    "language_info": {
      "name": "python"
    }
  },
  "cells": [
    {
      "cell_type": "code",
      "execution_count": 1,
      "metadata": {
        "id": "zz9GNM2n_QmR"
      },
      "outputs": [],
      "source": [
        "import json\n",
        "import pandas as pd"
      ]
    },
    {
      "cell_type": "code",
      "source": [
        "titles = ['valid', 'test', 'train']\n",
        "count_texts = 3800\n",
        "count_drugnames = 0\n",
        "count_bne_pos = 0\n",
        "count_ade_neg = 0\n",
        "count_worse = 0\n",
        "count_negated_ade = 0\n",
        "count_adr = 0\n",
        "count_diseases = 0\n",
        "for title in titles:\n",
        "    with open(f\"{title}.json\", \"r\") as f:\n",
        "        data = json.load(f)\n",
        "        for i in range(len(data)):\n",
        "            for entity in data[i]['entities'].values():\n",
        "                if \"tag\" in entity:\n",
        "                    if 'Medication:MedTypeDrugname' in entity['tag']:\n",
        "                        count_drugnames += 1\n",
        "                    if entity[\"tag\"] == [\"Disease:DisTypeBNE-Pos\"]:\n",
        "                        count_bne_pos += 1\n",
        "                    if entity[\"tag\"] == ['Disease:DisTypeADE-Neg']:\n",
        "                        count_ade_neg += 1\n",
        "                    if entity[\"tag\"] == ['Disease:DisTypeWorse']:\n",
        "                        count_worse += 1\n",
        "                    if entity[\"tag\"] == ['Disease:DisTypeNegatedADE']:\n",
        "                        count_negated_ade += 1\n",
        "                    if entity[\"tag\"] == ['ADR']:\n",
        "                        count_adr += 1\n",
        "                    if entity['tag'] == ['Disease:DisTypeIndication']:\n",
        "                        count_diseases += 1\n",
        "print('drugnames', count_drugnames, 'and on average per text', round(count_drugnames / count_texts, 2))\n",
        "print('bne_pos', count_bne_pos, 'and on average per text', round(count_bne_pos / count_texts, 2))\n",
        "print('ade_neg', count_ade_neg, 'and on average per text', round(count_ade_neg / count_texts, 2))\n",
        "print('worse', count_worse, 'and on average per text', round(count_worse / count_texts, 2))\n",
        "print('negated_ade', count_negated_ade, 'and on average per text', round(count_negated_ade / count_texts, 2))\n",
        "print('adr', count_adr, 'and on average per text', round(count_adr / count_texts, 2))\n",
        "print('diseases indication', count_diseases, 'and on average per text', round(count_diseases / count_texts, 2))\n"
      ],
      "metadata": {
        "colab": {
          "base_uri": "https://localhost:8080/"
        },
        "id": "J9cBow-5_50s",
        "outputId": "77586fe2-0b38-4ecd-96ba-39cba9f7b6cc"
      },
      "execution_count": 7,
      "outputs": [
        {
          "output_type": "stream",
          "name": "stdout",
          "text": [
            "drugnames 11812 and on average per text 3.11\n",
            "bne_pos 7475 and on average per text 1.97\n",
            "ade_neg 87 and on average per text 0.02\n",
            "worse 302 and on average per text 0.08\n",
            "negated_ade 3600 and on average per text 0.95\n",
            "adr 5050 and on average per text 1.33\n",
            "diseases indication 7456 and on average per text 1.96\n"
          ]
        }
      ]
    }
  ]
}